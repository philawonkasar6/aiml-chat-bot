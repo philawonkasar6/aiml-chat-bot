{
 "cells": [
  {
   "cell_type": "code",
   "execution_count": null,
   "metadata": {},
   "outputs": [
    {
     "name": "stdout",
     "output_type": "stream",
     "text": [
      "Loading std-startup.xml...done (0.01 seconds)\n",
      "Loading basic_chat.aiml...done (0.00 seconds)\n",
      "Enter your message >> hi\n",
      "amm hii\n",
      "Enter your message >> how are you\n",
      "i am fine what about you.\n",
      "Enter your message >> me too\n",
      "oh great nice to talk with you\n",
      "Enter your message >> hello\n",
      "amm hii\n",
      "Enter your message >> hello\n",
      "HELLO SIR\n",
      "Enter your message >> hello\n",
      "hi handsome\n",
      "Enter your message >> hello\n",
      "yeah.\n",
      "Enter your message >> what is your age\n"
     ]
    },
    {
     "name": "stderr",
     "output_type": "stream",
     "text": [
      "WARNING: No match found for input: what is your age\n"
     ]
    },
    {
     "name": "stdout",
     "output_type": "stream",
     "text": [
      "\n"
     ]
    }
   ],
   "source": [
    "import aiml\n",
    "\n",
    "# Create the kernel and learn AIML files\n",
    "kernel = aiml.Kernel()\n",
    "kernel.learn(\"std-startup.xml\")\n",
    "kernel.respond(\"load aiml b\")\n",
    "\n",
    "# Press CTRL-C to break this loop\n",
    "while True:\n",
    "    print (kernel.respond(input(\"Enter your message >> \")))"
   ]
  },
  {
   "cell_type": "code",
   "execution_count": null,
   "metadata": {},
   "outputs": [],
   "source": []
  },
  {
   "cell_type": "code",
   "execution_count": null,
   "metadata": {},
   "outputs": [],
   "source": []
  }
 ],
 "metadata": {
  "kernelspec": {
   "display_name": "Python 3",
   "language": "python",
   "name": "python3"
  },
  "language_info": {
   "codemirror_mode": {
    "name": "ipython",
    "version": 3
   },
   "file_extension": ".py",
   "mimetype": "text/x-python",
   "name": "python",
   "nbconvert_exporter": "python",
   "pygments_lexer": "ipython3",
   "version": "3.7.3"
  }
 },
 "nbformat": 4,
 "nbformat_minor": 2
}
